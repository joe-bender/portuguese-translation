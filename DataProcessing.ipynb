{
 "cells": [
  {
   "cell_type": "markdown",
   "metadata": {},
   "source": [
    "# Data Processing"
   ]
  },
  {
   "cell_type": "markdown",
   "metadata": {},
   "source": [
    "## Filter Dataset"
   ]
  },
  {
   "cell_type": "markdown",
   "metadata": {},
   "source": [
    "In this notebook, I create a filtered DataFrame from the full dataset of translated sentences. I choose sentences that are within a certain size range, determined by token count per sentence. This will make the training task easier."
   ]
  },
  {
   "cell_type": "markdown",
   "metadata": {},
   "source": [
    "First I import the two libraries I need for this notebook:\n",
    "- `re` for regular expressions, used to tokenize the sentences\n",
    "- `pandas` to create a DataFrame of the sentences"
   ]
  },
  {
   "cell_type": "code",
   "execution_count": 1,
   "metadata": {},
   "outputs": [],
   "source": [
    "import re\n",
    "import pandas as pd"
   ]
  },
  {
   "cell_type": "markdown",
   "metadata": {},
   "source": [
    "## Data"
   ]
  },
  {
   "cell_type": "markdown",
   "metadata": {},
   "source": [
    "I downloaded and extracted the two text files from [here](https://www.statmt.org/europarl/v7/pt-en.tgz) first (this is a `tgz` file). Then I put them into the same directory as this notebook. "
   ]
  },
  {
   "cell_type": "markdown",
   "metadata": {},
   "source": [
    "Note: make sure the two text files are in this notebook's directory before running the following cells."
   ]
  },
  {
   "cell_type": "markdown",
   "metadata": {},
   "source": [
    "First I read the Portuguese and English sentences into their own variables:"
   ]
  },
  {
   "cell_type": "code",
   "execution_count": 2,
   "metadata": {},
   "outputs": [],
   "source": [
    "pt_text = open('pt-en', 'r').read() # Portuguese sentences\n",
    "en_text = open('europarl-v7.pt-en.en', 'r').read() # English sentences"
   ]
  },
  {
   "cell_type": "markdown",
   "metadata": {},
   "source": [
    "I make all the text lowercase so that capitalization won't be an issue during training:"
   ]
  },
  {
   "cell_type": "code",
   "execution_count": 3,
   "metadata": {},
   "outputs": [],
   "source": [
    "# lowercase\n",
    "pt_text = pt_text.lower()\n",
    "en_text = en_text.lower()"
   ]
  },
  {
   "cell_type": "code",
   "execution_count": 4,
   "metadata": {},
   "outputs": [
    {
     "data": {
      "text/plain": [
       "(317385553, 295365281)"
      ]
     },
     "execution_count": 4,
     "metadata": {},
     "output_type": "execute_result"
    }
   ],
   "source": [
    "len(pt_text), len(en_text)"
   ]
  },
  {
   "cell_type": "markdown",
   "metadata": {},
   "source": [
    "Then I split the texts into sentences:"
   ]
  },
  {
   "cell_type": "code",
   "execution_count": 5,
   "metadata": {
    "scrolled": false
   },
   "outputs": [],
   "source": [
    "pt_sents = pt_text.split('\\n')\n",
    "en_sents = en_text.split('\\n')"
   ]
  },
  {
   "cell_type": "markdown",
   "metadata": {},
   "source": [
    "## Tokenize"
   ]
  },
  {
   "cell_type": "markdown",
   "metadata": {},
   "source": [
    "I tokenize by first flattening each text:"
   ]
  },
  {
   "cell_type": "code",
   "execution_count": 6,
   "metadata": {},
   "outputs": [],
   "source": [
    "# combined texts\n",
    "pt_text = '\\n'.join(pt_sents)\n",
    "en_text = '\\n'.join(en_sents)"
   ]
  },
  {
   "cell_type": "markdown",
   "metadata": {},
   "source": [
    "Then I extract all words and punctuation with `re`:"
   ]
  },
  {
   "cell_type": "code",
   "execution_count": 7,
   "metadata": {
    "scrolled": false
   },
   "outputs": [],
   "source": [
    "def tokenize_sentence(sent):\n",
    "    return re.findall(r'\\w+|[^\\w\\s]+', sent) # matches words or punctuation"
   ]
  },
  {
   "cell_type": "markdown",
   "metadata": {},
   "source": [
    "## DataFrame"
   ]
  },
  {
   "cell_type": "markdown",
   "metadata": {},
   "source": [
    "I create a DataFrame of the sentences as strings:"
   ]
  },
  {
   "cell_type": "code",
   "execution_count": 8,
   "metadata": {},
   "outputs": [],
   "source": [
    "df = pd.DataFrame({'pt':pt_sents, 'en':en_sents})"
   ]
  },
  {
   "cell_type": "code",
   "execution_count": 9,
   "metadata": {},
   "outputs": [
    {
     "data": {
      "text/plain": [
       "1960408"
      ]
     },
     "execution_count": 9,
     "metadata": {},
     "output_type": "execute_result"
    }
   ],
   "source": [
    "len(df)"
   ]
  },
  {
   "cell_type": "code",
   "execution_count": 10,
   "metadata": {},
   "outputs": [
    {
     "data": {
      "text/html": [
       "<div>\n",
       "<style scoped>\n",
       "    .dataframe tbody tr th:only-of-type {\n",
       "        vertical-align: middle;\n",
       "    }\n",
       "\n",
       "    .dataframe tbody tr th {\n",
       "        vertical-align: top;\n",
       "    }\n",
       "\n",
       "    .dataframe thead th {\n",
       "        text-align: right;\n",
       "    }\n",
       "</style>\n",
       "<table border=\"1\" class=\"dataframe\">\n",
       "  <thead>\n",
       "    <tr style=\"text-align: right;\">\n",
       "      <th></th>\n",
       "      <th>pt</th>\n",
       "      <th>en</th>\n",
       "    </tr>\n",
       "  </thead>\n",
       "  <tbody>\n",
       "    <tr>\n",
       "      <th>0</th>\n",
       "      <td>reinício da sessão</td>\n",
       "      <td>resumption of the session</td>\n",
       "    </tr>\n",
       "    <tr>\n",
       "      <th>1</th>\n",
       "      <td>declaro reaberta a sessão do parlamento europe...</td>\n",
       "      <td>i declare resumed the session of the european ...</td>\n",
       "    </tr>\n",
       "    <tr>\n",
       "      <th>2</th>\n",
       "      <td>como puderam constatar, o grande \"bug do ano 2...</td>\n",
       "      <td>although, as you will have seen, the dreaded '...</td>\n",
       "    </tr>\n",
       "    <tr>\n",
       "      <th>3</th>\n",
       "      <td>os senhores manifestaram o desejo de se proced...</td>\n",
       "      <td>you have requested a debate on this subject in...</td>\n",
       "    </tr>\n",
       "    <tr>\n",
       "      <th>4</th>\n",
       "      <td>entretanto, gostaria - como também me foi pedi...</td>\n",
       "      <td>in the meantime, i should like to observe a mi...</td>\n",
       "    </tr>\n",
       "  </tbody>\n",
       "</table>\n",
       "</div>"
      ],
      "text/plain": [
       "                                                  pt  \\\n",
       "0                                 reinício da sessão   \n",
       "1  declaro reaberta a sessão do parlamento europe...   \n",
       "2  como puderam constatar, o grande \"bug do ano 2...   \n",
       "3  os senhores manifestaram o desejo de se proced...   \n",
       "4  entretanto, gostaria - como também me foi pedi...   \n",
       "\n",
       "                                                  en  \n",
       "0                          resumption of the session  \n",
       "1  i declare resumed the session of the european ...  \n",
       "2  although, as you will have seen, the dreaded '...  \n",
       "3  you have requested a debate on this subject in...  \n",
       "4  in the meantime, i should like to observe a mi...  "
      ]
     },
     "execution_count": 10,
     "metadata": {},
     "output_type": "execute_result"
    }
   ],
   "source": [
    "df.head()"
   ]
  },
  {
   "cell_type": "markdown",
   "metadata": {},
   "source": [
    "Then I add columns with the sentences as lists of tokens:"
   ]
  },
  {
   "cell_type": "code",
   "execution_count": 11,
   "metadata": {},
   "outputs": [],
   "source": [
    "df['pt_toks'] = df['pt'].apply(tokenize_sentence)\n",
    "df['en_toks'] = df['en'].apply(tokenize_sentence)"
   ]
  },
  {
   "cell_type": "markdown",
   "metadata": {},
   "source": [
    "Then I add columns with the lengths of each sentence (number of tokens):"
   ]
  },
  {
   "cell_type": "code",
   "execution_count": 13,
   "metadata": {},
   "outputs": [],
   "source": [
    "df['pt_len'] = df['pt_toks'].apply(len)\n",
    "df['en_len'] = df['en_toks'].apply(len)"
   ]
  },
  {
   "cell_type": "markdown",
   "metadata": {},
   "source": [
    "I then filter the DataFrame to create a much shorter one. I choose only the rows where:\n",
    "- the Portuguese sentence is between 6 and 8 tokens long\n",
    "- the English sentence is between 6 and 8 tokens long"
   ]
  },
  {
   "cell_type": "code",
   "execution_count": 23,
   "metadata": {},
   "outputs": [
    {
     "data": {
      "text/html": [
       "<div>\n",
       "<style scoped>\n",
       "    .dataframe tbody tr th:only-of-type {\n",
       "        vertical-align: middle;\n",
       "    }\n",
       "\n",
       "    .dataframe tbody tr th {\n",
       "        vertical-align: top;\n",
       "    }\n",
       "\n",
       "    .dataframe thead th {\n",
       "        text-align: right;\n",
       "    }\n",
       "</style>\n",
       "<table border=\"1\" class=\"dataframe\">\n",
       "  <thead>\n",
       "    <tr style=\"text-align: right;\">\n",
       "      <th></th>\n",
       "      <th>pt</th>\n",
       "      <th>en</th>\n",
       "      <th>pt_toks</th>\n",
       "      <th>en_toks</th>\n",
       "      <th>pt_len</th>\n",
       "      <th>en_len</th>\n",
       "    </tr>\n",
       "  </thead>\n",
       "  <tbody>\n",
       "    <tr>\n",
       "      <th>27</th>\n",
       "      <td>é o caso de alexander nikitin.</td>\n",
       "      <td>it is the case of alexander nikitin.</td>\n",
       "      <td>[é, o, caso, de, alexander, nikitin, .]</td>\n",
       "      <td>[it, is, the, case, of, alexander, nikitin, .]</td>\n",
       "      <td>7</td>\n",
       "      <td>8</td>\n",
       "    </tr>\n",
       "    <tr>\n",
       "      <th>84</th>\n",
       "      <td>(aplausos da bancada do grupo pse)</td>\n",
       "      <td>(applause from the pse group)</td>\n",
       "      <td>[(, aplausos, da, bancada, do, grupo, pse, )]</td>\n",
       "      <td>[(, applause, from, the, pse, group, )]</td>\n",
       "      <td>8</td>\n",
       "      <td>7</td>\n",
       "    </tr>\n",
       "    <tr>\n",
       "      <th>128</th>\n",
       "      <td>obrigada, senhor deputado poettering.</td>\n",
       "      <td>thank you, mr poettering.</td>\n",
       "      <td>[obrigada, ,, senhor, deputado, poettering, .]</td>\n",
       "      <td>[thank, you, ,, mr, poettering, .]</td>\n",
       "      <td>6</td>\n",
       "      <td>6</td>\n",
       "    </tr>\n",
       "    <tr>\n",
       "      <th>140</th>\n",
       "      <td>o meu voto era \"a favor\".</td>\n",
       "      <td>my vote was \"in favour\" .</td>\n",
       "      <td>[o, meu, voto, era, \", a, favor, \".]</td>\n",
       "      <td>[my, vote, was, \", in, favour, \", .]</td>\n",
       "      <td>8</td>\n",
       "      <td>8</td>\n",
       "    </tr>\n",
       "    <tr>\n",
       "      <th>143</th>\n",
       "      <td>não há lugar para mudanças.</td>\n",
       "      <td>there is no room for amendments.</td>\n",
       "      <td>[não, há, lugar, para, mudanças, .]</td>\n",
       "      <td>[there, is, no, room, for, amendments, .]</td>\n",
       "      <td>6</td>\n",
       "      <td>7</td>\n",
       "    </tr>\n",
       "    <tr>\n",
       "      <th>...</th>\n",
       "      <td>...</td>\n",
       "      <td>...</td>\n",
       "      <td>...</td>\n",
       "      <td>...</td>\n",
       "      <td>...</td>\n",
       "      <td>...</td>\n",
       "    </tr>\n",
       "    <tr>\n",
       "      <th>1960216</th>\n",
       "      <td>extensão ao tajiquistão de assistência finance...</td>\n",
       "      <td>extension of exceptional financial assistance ...</td>\n",
       "      <td>[extensão, ao, tajiquistão, de, assistência, f...</td>\n",
       "      <td>[extension, of, exceptional, financial, assist...</td>\n",
       "      <td>7</td>\n",
       "      <td>7</td>\n",
       "    </tr>\n",
       "    <tr>\n",
       "      <th>1960366</th>\n",
       "      <td>vamos agora proceder à votação.</td>\n",
       "      <td>we shall now proceed to the vote.</td>\n",
       "      <td>[vamos, agora, proceder, à, votação, .]</td>\n",
       "      <td>[we, shall, now, proceed, to, the, vote, .]</td>\n",
       "      <td>6</td>\n",
       "      <td>8</td>\n",
       "    </tr>\n",
       "    <tr>\n",
       "      <th>1960367</th>\n",
       "      <td>após a votação das alterações:</td>\n",
       "      <td>following the vote on the amendments</td>\n",
       "      <td>[após, a, votação, das, alterações, :]</td>\n",
       "      <td>[following, the, vote, on, the, amendments]</td>\n",
       "      <td>6</td>\n",
       "      <td>6</td>\n",
       "    </tr>\n",
       "    <tr>\n",
       "      <th>1960382</th>\n",
       "      <td>­ muito obrigado, senhora deputada thyssen.</td>\n",
       "      <td>thank you very much, mrs thyssen.</td>\n",
       "      <td>[­, muito, obrigado, ,, senhora, deputada, thy...</td>\n",
       "      <td>[thank, you, very, much, ,, mrs, thyssen, .]</td>\n",
       "      <td>8</td>\n",
       "      <td>8</td>\n",
       "    </tr>\n",
       "    <tr>\n",
       "      <th>1960387</th>\n",
       "      <td>pode rectificar a situação, por favor?</td>\n",
       "      <td>would you please rectify this?</td>\n",
       "      <td>[pode, rectificar, a, situação, ,, por, favor, ?]</td>\n",
       "      <td>[would, you, please, rectify, this, ?]</td>\n",
       "      <td>8</td>\n",
       "      <td>6</td>\n",
       "    </tr>\n",
       "  </tbody>\n",
       "</table>\n",
       "<p>45812 rows × 6 columns</p>\n",
       "</div>"
      ],
      "text/plain": [
       "                                                        pt  \\\n",
       "27                          é o caso de alexander nikitin.   \n",
       "84                      (aplausos da bancada do grupo pse)   \n",
       "128                  obrigada, senhor deputado poettering.   \n",
       "140                              o meu voto era \"a favor\".   \n",
       "143                            não há lugar para mudanças.   \n",
       "...                                                    ...   \n",
       "1960216  extensão ao tajiquistão de assistência finance...   \n",
       "1960366                    vamos agora proceder à votação.   \n",
       "1960367                     após a votação das alterações:   \n",
       "1960382        ­ muito obrigado, senhora deputada thyssen.   \n",
       "1960387             pode rectificar a situação, por favor?   \n",
       "\n",
       "                                                        en  \\\n",
       "27                    it is the case of alexander nikitin.   \n",
       "84                           (applause from the pse group)   \n",
       "128                              thank you, mr poettering.   \n",
       "140                              my vote was \"in favour\" .   \n",
       "143                       there is no room for amendments.   \n",
       "...                                                    ...   \n",
       "1960216  extension of exceptional financial assistance ...   \n",
       "1960366                  we shall now proceed to the vote.   \n",
       "1960367               following the vote on the amendments   \n",
       "1960382                  thank you very much, mrs thyssen.   \n",
       "1960387                     would you please rectify this?   \n",
       "\n",
       "                                                   pt_toks  \\\n",
       "27                 [é, o, caso, de, alexander, nikitin, .]   \n",
       "84           [(, aplausos, da, bancada, do, grupo, pse, )]   \n",
       "128         [obrigada, ,, senhor, deputado, poettering, .]   \n",
       "140                   [o, meu, voto, era, \", a, favor, \".]   \n",
       "143                    [não, há, lugar, para, mudanças, .]   \n",
       "...                                                    ...   \n",
       "1960216  [extensão, ao, tajiquistão, de, assistência, f...   \n",
       "1960366            [vamos, agora, proceder, à, votação, .]   \n",
       "1960367             [após, a, votação, das, alterações, :]   \n",
       "1960382  [­, muito, obrigado, ,, senhora, deputada, thy...   \n",
       "1960387  [pode, rectificar, a, situação, ,, por, favor, ?]   \n",
       "\n",
       "                                                   en_toks  pt_len  en_len  \n",
       "27          [it, is, the, case, of, alexander, nikitin, .]       7       8  \n",
       "84                 [(, applause, from, the, pse, group, )]       8       7  \n",
       "128                     [thank, you, ,, mr, poettering, .]       6       6  \n",
       "140                   [my, vote, was, \", in, favour, \", .]       8       8  \n",
       "143              [there, is, no, room, for, amendments, .]       6       7  \n",
       "...                                                    ...     ...     ...  \n",
       "1960216  [extension, of, exceptional, financial, assist...       7       7  \n",
       "1960366        [we, shall, now, proceed, to, the, vote, .]       6       8  \n",
       "1960367        [following, the, vote, on, the, amendments]       6       6  \n",
       "1960382       [thank, you, very, much, ,, mrs, thyssen, .]       8       8  \n",
       "1960387             [would, you, please, rectify, this, ?]       8       6  \n",
       "\n",
       "[45812 rows x 6 columns]"
      ]
     },
     "execution_count": 23,
     "metadata": {},
     "output_type": "execute_result"
    }
   ],
   "source": [
    "short_df = df[(df['pt_len'] >= 6) \n",
    "              & (df['pt_len'] <= 8) \n",
    "              & (df['en_len'] >= 6) \n",
    "              & (df['en_len'] <= 8)]\n",
    "short_df"
   ]
  },
  {
   "cell_type": "markdown",
   "metadata": {},
   "source": [
    "I then save this small DataFrame for use in the following notebook:"
   ]
  },
  {
   "cell_type": "code",
   "execution_count": 24,
   "metadata": {},
   "outputs": [],
   "source": [
    "# pandas save dataframe\n",
    "short_df.to_pickle('short_df.p')"
   ]
  },
  {
   "cell_type": "markdown",
   "metadata": {},
   "source": [
    "The training and inference happen in the next notebook, titled \"Translation\"."
   ]
  }
 ],
 "metadata": {
  "kernelspec": {
   "display_name": "Python 3",
   "language": "python",
   "name": "python3"
  },
  "language_info": {
   "codemirror_mode": {
    "name": "ipython",
    "version": 3
   },
   "file_extension": ".py",
   "mimetype": "text/x-python",
   "name": "python",
   "nbconvert_exporter": "python",
   "pygments_lexer": "ipython3",
   "version": "3.8.6"
  }
 },
 "nbformat": 4,
 "nbformat_minor": 4
}
